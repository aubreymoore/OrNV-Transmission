{
  "nbformat": 4,
  "nbformat_minor": 0,
  "metadata": {
    "kernelspec": {
      "display_name": "Python2 (w2p27)",
      "language": "python",
      "name": "w2p27"
    },
    "language_info": {
      "codemirror_mode": {
        "name": "ipython",
        "version": 2
      },
      "file_extension": ".py",
      "mimetype": "text/x-python",
      "name": "python",
      "nbconvert_exporter": "python",
      "pygments_lexer": "ipython2",
      "version": "2.7.12"
    },
    "colab": {
      "name": "ornv-transmission.ipynb",
      "provenance": [],
      "include_colab_link": true
    }
  },
  "cells": [
    {
      "cell_type": "markdown",
      "metadata": {
        "id": "view-in-github",
        "colab_type": "text"
      },
      "source": [
        "<a href=\"https://colab.research.google.com/github/aubreymoore/OrNV-Transmission/blob/master/ornv_transmission.ipynb\" target=\"_parent\"><img src=\"https://colab.research.google.com/assets/colab-badge.svg\" alt=\"Open In Colab\"/></a>"
      ]
    },
    {
      "cell_type": "markdown",
      "metadata": {
        "id": "G-FV8mqg76ck",
        "colab_type": "text"
      },
      "source": [
        "# OrNV Transmission Experiment\n",
        "\n",
        "This experiment was performed to determine if virus can be transmitted from a dosed CRB adult to an undosed CRB adult.\n",
        "\n",
        "## Methods\n",
        "\n",
        "### Beetles\n",
        "\n",
        "### Virus\n",
        "\n",
        "Beetles were dosed per os with ca. 30 μl V23B virus preparation of unknown concentration (AgResearch, New Zealand).\n",
        "\n",
        "### Experimental design\n",
        "\n",
        "To test for virus transmission, beetles were selected at random and assigned to 45 pairs with a male and a female in each pair. These pairs were housed in Mason jars half filled with moist peat moss. The jars were held under standard rearing conditions in an environmental chamber: 30 deg C; 80% RH; 12h photoperiod. At the start of the bioassay, the beetle pairs were randomly placed in 3 treatment groups of 15 jars each. \n",
        "\n",
        "Treatment group | Treatment\n",
        ":---|:---\n",
        "Jars labeled C1 through C15|Experimental control; neither beetle was dosed\n",
        "Jars labeled TF1 through TF15|Female was dosed with virus; male was not dosed\n",
        "Jars labeled TM1 through TM15|Male was dosed with virus; female was not dosed\n",
        "\n",
        "### Observations\n",
        "\n",
        "## Analysis\n",
        "\n",
        "Data is saved in ornv-transmission.csv.\n",
        "\n",
        "## Results\n",
        "\n"
      ]
    },
    {
      "cell_type": "code",
      "metadata": {
        "id": "FZd7RvL576cl",
        "colab_type": "code",
        "colab": {}
      },
      "source": [
        "%matplotlib inline\n",
        "import pandas as pd\n",
        "import matplotlib.pyplot as plt\n",
        "import seaborn as sns\n",
        "import lifelines\n",
        "from lifelines import KaplanMeierFitter, statistics\n",
        "import numpy as np\n",
        "import re"
      ],
      "execution_count": 0,
      "outputs": []
    },
    {
      "cell_type": "code",
      "metadata": {
        "id": "w07haqoM76cq",
        "colab_type": "code",
        "colab": {}
      },
      "source": [
        "df = pd.read_csv('https://github.com/aubreymoore/OrNV-Transmission/raw/master/ornv-transmission.csv', parse_dates=[3,4])\n",
        "#print df.info()"
      ],
      "execution_count": 0,
      "outputs": []
    },
    {
      "cell_type": "code",
      "metadata": {
        "scrolled": true,
        "id": "HKeNNMcN76cu",
        "colab_type": "code",
        "outputId": "e46c89d5-449a-4db8-bc8f-8132e31ce804",
        "colab": {
          "base_uri": "https://localhost:8080/",
          "height": 419
        }
      },
      "source": [
        "# Create some extra columns\n",
        "# t is time until death in days after start of bioassay\n",
        "# e is a boolean indication that the beetle died during the bioassay\n",
        "\n",
        "df['date_end_bioassay'] = df.date_died.max()\n",
        "t, e = lifelines.utils.datetimes_to_durations(\n",
        "    start_times=pd.to_datetime(df.date_treated),\n",
        "    end_times=pd.to_datetime(df.date_died),\n",
        "    fill_date=pd.to_datetime(df.date_end_bioassay))\n",
        "df['t'] = t\n",
        "df['e'] = e\n",
        "df"
      ],
      "execution_count": 0,
      "outputs": [
        {
          "output_type": "execute_result",
          "data": {
            "text/html": [
              "<div>\n",
              "<style scoped>\n",
              "    .dataframe tbody tr th:only-of-type {\n",
              "        vertical-align: middle;\n",
              "    }\n",
              "\n",
              "    .dataframe tbody tr th {\n",
              "        vertical-align: top;\n",
              "    }\n",
              "\n",
              "    .dataframe thead th {\n",
              "        text-align: right;\n",
              "    }\n",
              "</style>\n",
              "<table border=\"1\" class=\"dataframe\">\n",
              "  <thead>\n",
              "    <tr style=\"text-align: right;\">\n",
              "      <th></th>\n",
              "      <th>jar_id</th>\n",
              "      <th>sex</th>\n",
              "      <th>treatment</th>\n",
              "      <th>date_treated</th>\n",
              "      <th>date_died</th>\n",
              "      <th>date_end_bioassay</th>\n",
              "      <th>t</th>\n",
              "      <th>e</th>\n",
              "    </tr>\n",
              "  </thead>\n",
              "  <tbody>\n",
              "    <tr>\n",
              "      <th>0</th>\n",
              "      <td>C1</td>\n",
              "      <td>m</td>\n",
              "      <td>none</td>\n",
              "      <td>2019-12-26</td>\n",
              "      <td>2020-01-16</td>\n",
              "      <td>2020-02-06</td>\n",
              "      <td>21.0</td>\n",
              "      <td>True</td>\n",
              "    </tr>\n",
              "    <tr>\n",
              "      <th>1</th>\n",
              "      <td>C2</td>\n",
              "      <td>m</td>\n",
              "      <td>none</td>\n",
              "      <td>2019-12-26</td>\n",
              "      <td>2020-01-29</td>\n",
              "      <td>2020-02-06</td>\n",
              "      <td>34.0</td>\n",
              "      <td>True</td>\n",
              "    </tr>\n",
              "    <tr>\n",
              "      <th>2</th>\n",
              "      <td>C3</td>\n",
              "      <td>m</td>\n",
              "      <td>none</td>\n",
              "      <td>2019-12-26</td>\n",
              "      <td>2020-01-19</td>\n",
              "      <td>2020-02-06</td>\n",
              "      <td>24.0</td>\n",
              "      <td>True</td>\n",
              "    </tr>\n",
              "    <tr>\n",
              "      <th>3</th>\n",
              "      <td>C4</td>\n",
              "      <td>m</td>\n",
              "      <td>none</td>\n",
              "      <td>2019-12-26</td>\n",
              "      <td>2020-01-21</td>\n",
              "      <td>2020-02-06</td>\n",
              "      <td>26.0</td>\n",
              "      <td>True</td>\n",
              "    </tr>\n",
              "    <tr>\n",
              "      <th>4</th>\n",
              "      <td>C5</td>\n",
              "      <td>m</td>\n",
              "      <td>none</td>\n",
              "      <td>2019-12-26</td>\n",
              "      <td>2020-01-29</td>\n",
              "      <td>2020-02-06</td>\n",
              "      <td>34.0</td>\n",
              "      <td>True</td>\n",
              "    </tr>\n",
              "    <tr>\n",
              "      <th>...</th>\n",
              "      <td>...</td>\n",
              "      <td>...</td>\n",
              "      <td>...</td>\n",
              "      <td>...</td>\n",
              "      <td>...</td>\n",
              "      <td>...</td>\n",
              "      <td>...</td>\n",
              "      <td>...</td>\n",
              "    </tr>\n",
              "    <tr>\n",
              "      <th>85</th>\n",
              "      <td>TM11</td>\n",
              "      <td>f</td>\n",
              "      <td>companion</td>\n",
              "      <td>2019-12-27</td>\n",
              "      <td>2020-01-29</td>\n",
              "      <td>2020-02-06</td>\n",
              "      <td>33.0</td>\n",
              "      <td>True</td>\n",
              "    </tr>\n",
              "    <tr>\n",
              "      <th>86</th>\n",
              "      <td>TM12</td>\n",
              "      <td>f</td>\n",
              "      <td>companion</td>\n",
              "      <td>2019-12-27</td>\n",
              "      <td>NaT</td>\n",
              "      <td>2020-02-06</td>\n",
              "      <td>41.0</td>\n",
              "      <td>False</td>\n",
              "    </tr>\n",
              "    <tr>\n",
              "      <th>87</th>\n",
              "      <td>TM13</td>\n",
              "      <td>f</td>\n",
              "      <td>companion</td>\n",
              "      <td>2019-12-27</td>\n",
              "      <td>2020-02-03</td>\n",
              "      <td>2020-02-06</td>\n",
              "      <td>38.0</td>\n",
              "      <td>True</td>\n",
              "    </tr>\n",
              "    <tr>\n",
              "      <th>88</th>\n",
              "      <td>TM14</td>\n",
              "      <td>f</td>\n",
              "      <td>companion</td>\n",
              "      <td>2019-12-27</td>\n",
              "      <td>2020-01-14</td>\n",
              "      <td>2020-02-06</td>\n",
              "      <td>18.0</td>\n",
              "      <td>True</td>\n",
              "    </tr>\n",
              "    <tr>\n",
              "      <th>89</th>\n",
              "      <td>TM15</td>\n",
              "      <td>f</td>\n",
              "      <td>companion</td>\n",
              "      <td>2019-12-27</td>\n",
              "      <td>2020-01-19</td>\n",
              "      <td>2020-02-06</td>\n",
              "      <td>23.0</td>\n",
              "      <td>True</td>\n",
              "    </tr>\n",
              "  </tbody>\n",
              "</table>\n",
              "<p>90 rows × 8 columns</p>\n",
              "</div>"
            ],
            "text/plain": [
              "   jar_id sex  treatment date_treated  date_died date_end_bioassay     t      e\n",
              "0      C1   m       none   2019-12-26 2020-01-16        2020-02-06  21.0   True\n",
              "1      C2   m       none   2019-12-26 2020-01-29        2020-02-06  34.0   True\n",
              "2      C3   m       none   2019-12-26 2020-01-19        2020-02-06  24.0   True\n",
              "3      C4   m       none   2019-12-26 2020-01-21        2020-02-06  26.0   True\n",
              "4      C5   m       none   2019-12-26 2020-01-29        2020-02-06  34.0   True\n",
              "..    ...  ..        ...          ...        ...               ...   ...    ...\n",
              "85   TM11   f  companion   2019-12-27 2020-01-29        2020-02-06  33.0   True\n",
              "86   TM12   f  companion   2019-12-27        NaT        2020-02-06  41.0  False\n",
              "87   TM13   f  companion   2019-12-27 2020-02-03        2020-02-06  38.0   True\n",
              "88   TM14   f  companion   2019-12-27 2020-01-14        2020-02-06  18.0   True\n",
              "89   TM15   f  companion   2019-12-27 2020-01-19        2020-02-06  23.0   True\n",
              "\n",
              "[90 rows x 8 columns]"
            ]
          },
          "metadata": {
            "tags": []
          },
          "execution_count": 35
        }
      ]
    },
    {
      "cell_type": "code",
      "metadata": {
        "id": "xV8Vkev676cz",
        "colab_type": "code",
        "outputId": "a152d265-b34c-4dcb-c3ce-266a20320279",
        "colab": {
          "base_uri": "https://localhost:8080/",
          "height": 410
        }
      },
      "source": [
        "sns.set()\n",
        "\n",
        "# Create custom palette\n",
        "colors = [\"#00FF00\", \"#000000\",\"#FF0000\", ]\n",
        "sns.set_palette(sns.color_palette(colors))\n",
        "\n",
        "# Create survorship plot\n",
        "\n",
        "fig, ax = plt.subplots(figsize=(8,6))\n",
        "kmf = KaplanMeierFitter()\n",
        "for name, grouped_df in df.groupby('treatment'):\n",
        "    kmf.fit(grouped_df['t'], grouped_df['e'], label=name)\n",
        "    kmf.plot(ax=ax, linewidth=5, ci_show=False)\n",
        "ax.set_xlabel('days after treatment')\n",
        "ax.set_ylabel('proportion dead')\n",
        "ax.set_ylim([0,1])\n",
        "ax.set_title('Survivorship');\n",
        "#fig.savefig('survivorshipfig.pdf')"
      ],
      "execution_count": 0,
      "outputs": [
        {
          "output_type": "display_data",
          "data": {
            "image/png": "[encoded data removed]",
            "text/plain": [
              "<Figure size 576x432 with 1 Axes>"
            ]
          },
          "metadata": {
            "tags": []
          }
        }
      ]
    },
    {
      "cell_type": "code",
      "metadata": {
        "scrolled": false,
        "id": "1G5ZN28N76c2",
        "colab_type": "code",
        "outputId": "02f61fec-8013-41ef-a5d2-7079f90ec455",
        "colab": {
          "base_uri": "https://localhost:8080/",
          "height": 381
        }
      },
      "source": [
        "def plot_pairs(tgroup, plot_title):\n",
        "    \"\"\"\n",
        "    tgroup: 'TF' or 'TM'\n",
        "    plot_title: 'Females dosed with virus' for example\n",
        "    \"\"\"\n",
        "    # Copy the slice where jar_id starts with 'TF'\n",
        "    dftf = df[df.jar_id.str.startswith(tgroup)].copy()\n",
        "\n",
        "    # Filter out beetles which did not die\n",
        "    dftf = dftf[dftf.e]\n",
        "\n",
        "    # Create 'pair_id' column\n",
        "    dftf['pair_id'] = dftf.apply(lambda row: int(re.findall('\\d+',row.jar_id)[0]), axis=1)\n",
        "\n",
        "    # Sort so that virus treatments come first\n",
        "    dftf.sort_values(by='treatment', inplace=True, ascending=False)\n",
        "\n",
        "    sns.set()\n",
        "\n",
        "    # Create custom palette\n",
        "    colors = [\"#FF0000\", \"#00FF00\"]\n",
        "    sns.set_palette(sns.color_palette(colors))\n",
        "\n",
        "    p = sns.lmplot(x='t', y='pair_id', data=dftf, hue='treatment', fit_reg=False, y_jitter=0.2)\n",
        "    p = p.set(xlim=(0,42))\n",
        "    p = p.set(ylim=(0,16))\n",
        "    p = p.set(yticks=np.arange(1,16,1))\n",
        "    p = p.set(xticks=np.arange(0,42,4))\n",
        "    plt.title(plot_title);\n",
        "    \n",
        "plot_pairs('TF', 'Females dosed with virus')"
      ],
      "execution_count": 0,
      "outputs": [
        {
          "output_type": "display_data",
          "data": {
            "image/png": "[encoded data removed]",
            "text/plain": [
              "<Figure size 460.85x360 with 1 Axes>"
            ]
          },
          "metadata": {
            "tags": []
          }
        }
      ]
    },
    {
      "cell_type": "code",
      "metadata": {
        "id": "WRd4lxlj76c6",
        "colab_type": "code",
        "outputId": "9a0ead39-211b-496f-cff7-f16f8d6f64fc",
        "colab": {
          "base_uri": "https://localhost:8080/",
          "height": 377
        }
      },
      "source": [
        "plot_pairs('TM', 'Males dosed with virus')"
      ],
      "execution_count": 0,
      "outputs": [
        {
          "output_type": "display_data",
          "data": {
            "image/png": "[encoded data removed]",
            "text/plain": [
              "<Figure size 460.85x360 with 1 Axes>"
            ]
          },
          "metadata": {
            "tags": []
          }
        }
      ]
    }
  ]
}