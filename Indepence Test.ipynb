{
 "cells": [
  {
   "cell_type": "markdown",
   "metadata": {},
   "source": [
    "Use **Python3 (py3env)** kernel."
   ]
  },
  {
   "cell_type": "markdown",
   "metadata": {},
   "source": [
    "## Create a New Virtual Environment\n",
    "\n",
    "```\n",
    "$pip install virtualenvwrapper\n",
    "$mkvirtualenv -p python3 py3env \n",
    "$workon py3env\n",
    "```\n",
    "\n",
    "This will activate virtualenv\n",
    "```\n",
    "(py3env)$ \n",
    "```\n",
    "\n",
    "Then install jupyter within the active virtualenv\n",
    "```\n",
    "(py3env)$ pip install jupyter\n",
    "```\n",
    "\n",
    "jupyter comes with ipykernel, but somehow you manage to get an error due to ipykernel, then for reference ipykernel package can be installed using:\n",
    "```\n",
    "(py3env)$ pip install ipykernel\n",
    "```\n",
    "\n",
    "## Create a New Jupyter Kernel\n",
    "\n",
    "```\n",
    "(py3env)$ python -m ipykernel install --user --name py2env --display-name **Python3 (py3env)**\n",
    "```\n",
    "then start Jupyter notebook (the venv need not be activated for this step)\n",
    "```\n",
    "(py3env)$ jupyter notebook\n",
    "```\n",
    "or\n",
    "```\n",
    "$ jupyter notebook\n",
    "```\n",
    "\n",
    "In the Jupyter notebook dropdown menu: **Kernel >> Change Kernel >> <list of kernels>** you should see **Python3 (py3env) kernel**.\n",
    "\n",
    "## Installing Packages from Within the Notebook\n",
    "\n",
    "Reference: https://jakevdp.github.io/blog/2017/12/05/installing-python-packages-from-jupyter/\n",
    "\n",
    "Run this within a cell:\n",
    "```\n",
    "import sys\n",
    "!{sys.executable} -m pip install seaborn\n",
    "```\n",
    "To see a list of installed packages:\n",
    "```\n",
    "!pip list\n",
    "```"
   ]
  },
  {
   "cell_type": "code",
   "execution_count": 11,
   "metadata": {},
   "outputs": [],
   "source": [
    "# If you need to install a python package,\n",
    "# uncomment the following, specify a package, and run this cell.\n",
    "\n",
    "#import sys\n",
    "#!{sys.executable} -m pip install numpy"
   ]
  },
  {
   "cell_type": "code",
   "execution_count": 14,
   "metadata": {},
   "outputs": [],
   "source": [
    "import scipy\n",
    "import scipy.stats\n",
    "import numpy as np"
   ]
  },
  {
   "cell_type": "code",
   "execution_count": 15,
   "metadata": {},
   "outputs": [
    {
     "data": {
      "text/plain": [
       "Power_divergenceResult(statistic=1.2500000000000004, pvalue=0.5352614285189901)"
      ]
     },
     "execution_count": 15,
     "metadata": {},
     "output_type": "execute_result"
    }
   ],
   "source": [
    "observed_values=np.array([9, 18, 18])\n",
    "expected_values=np.array([7.2, 21.6, 16.2])\n",
    "scipy.stats.chisquare(observed_values, f_exp=expected_values)"
   ]
  },
  {
   "cell_type": "code",
   "execution_count": 66,
   "metadata": {},
   "outputs": [
    {
     "data": {
      "image/png": "[encoded data removed]",
      "text/plain": [
       "<Figure size 432x288 with 1 Axes>"
      ]
     },
     "metadata": {
      "needs_background": "light"
     },
     "output_type": "display_data"
    }
   ],
   "source": [
    "import numpy as np\n",
    "import matplotlib.pyplot as plt\n",
    "\n",
    "X = np.arange(3)\n",
    "plt.bar(X - 0.1, expected_values, color = 'g', width = 0.2)\n",
    "plt.bar(X + 0.1, observed_values, color = 'r', width = 0.2)\n",
    "\n",
    "plt.show()"
   ]
  }
 ],
 "metadata": {
  "kernelspec": {
   "display_name": "Python3 (py3env)",
   "language": "python",
   "name": "py2env"
  },
  "language_info": {
   "codemirror_mode": {
    "name": "ipython",
    "version": 3
   },
   "file_extension": ".py",
   "mimetype": "text/x-python",
   "name": "python",
   "nbconvert_exporter": "python",
   "pygments_lexer": "ipython3",
   "version": "3.5.2"
  }
 },
 "nbformat": 4,
 "nbformat_minor": 4
}
