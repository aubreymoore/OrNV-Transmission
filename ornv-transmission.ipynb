{
 "cells": [
  {
   "cell_type": "code",
   "execution_count": 3,
   "metadata": {},
   "outputs": [
    {
     "name": "stdout",
     "output_type": "stream",
     "text": [
      "Requirement already satisfied: pip in /usr/local/lib/python3.5/dist-packages (19.3.1)\n",
      "\u001b[33mWARNING: You are using pip version 19.3.1; however, version 20.0.2 is available.\n",
      "You should consider upgrading via the 'pip install --upgrade pip' command.\u001b[0m\n"
     ]
    }
   ],
   "source": [
    "!pip install pip"
   ]
  },
  {
   "cell_type": "code",
   "execution_count": 4,
   "metadata": {},
   "outputs": [
    {
     "ename": "AttributeError",
     "evalue": "'module' object has no attribute 'main'",
     "output_type": "error",
     "traceback": [
      "\u001b[0;31m---------------------------------------------------------------------------\u001b[0m",
      "\u001b[0;31mAttributeError\u001b[0m                            Traceback (most recent call last)",
      "\u001b[0;32m<ipython-input-4-1454c2e04e32>\u001b[0m in \u001b[0;36m<module>\u001b[0;34m()\u001b[0m\n\u001b[1;32m      1\u001b[0m \u001b[0;32mimport\u001b[0m \u001b[0mpip\u001b[0m\u001b[0;34m\u001b[0m\u001b[0m\n\u001b[0;32m----> 2\u001b[0;31m \u001b[0mpip\u001b[0m\u001b[0;34m.\u001b[0m\u001b[0mmain\u001b[0m\u001b[0;34m(\u001b[0m\u001b[0;34m[\u001b[0m\u001b[0;34m'install'\u001b[0m\u001b[0;34m,\u001b[0m\u001b[0;34m'seaborn'\u001b[0m\u001b[0;34m]\u001b[0m\u001b[0;34m)\u001b[0m\u001b[0;34m\u001b[0m\u001b[0m\n\u001b[0m",
      "\u001b[0;31mAttributeError\u001b[0m: 'module' object has no attribute 'main'"
     ]
    }
   ],
   "source": [
    "import pip\n",
    "pip.main(['install','seaborn'])"
   ]
  },
  {
   "cell_type": "code",
   "execution_count": 6,
   "metadata": {},
   "outputs": [
    {
     "ename": "ImportError",
     "evalue": "No module named seaborn",
     "output_type": "error",
     "traceback": [
      "\u001b[0;31m---------------------------------------------------------------------------\u001b[0m",
      "\u001b[0;31mImportError\u001b[0m                               Traceback (most recent call last)",
      "\u001b[0;32m<ipython-input-6-b9a0710ea7a6>\u001b[0m in \u001b[0;36m<module>\u001b[0;34m()\u001b[0m\n\u001b[1;32m      2\u001b[0m \u001b[0;32mimport\u001b[0m \u001b[0mpandas\u001b[0m \u001b[0;32mas\u001b[0m \u001b[0mpd\u001b[0m\u001b[0;34m\u001b[0m\u001b[0m\n\u001b[1;32m      3\u001b[0m \u001b[0;32mimport\u001b[0m \u001b[0mmatplotlib\u001b[0m\u001b[0;34m.\u001b[0m\u001b[0mpyplot\u001b[0m \u001b[0;32mas\u001b[0m \u001b[0mplt\u001b[0m\u001b[0;34m\u001b[0m\u001b[0m\n\u001b[0;32m----> 4\u001b[0;31m \u001b[0;32mimport\u001b[0m \u001b[0mseaborn\u001b[0m \u001b[0;32mas\u001b[0m \u001b[0msns\u001b[0m\u001b[0;34m\u001b[0m\u001b[0m\n\u001b[0m\u001b[1;32m      5\u001b[0m \u001b[0;32mimport\u001b[0m \u001b[0mlifelines\u001b[0m\u001b[0;34m\u001b[0m\u001b[0m\n\u001b[1;32m      6\u001b[0m \u001b[0;32mfrom\u001b[0m \u001b[0mlifelines\u001b[0m \u001b[0;32mimport\u001b[0m \u001b[0mKaplanMeierFitter\u001b[0m\u001b[0;34m,\u001b[0m \u001b[0mstatistics\u001b[0m\u001b[0;34m\u001b[0m\u001b[0m\n",
      "\u001b[0;31mImportError\u001b[0m: No module named seaborn"
     ]
    }
   ],
   "source": [
    "%matplotlib notebook\n",
    "import pandas as pd\n",
    "import matplotlib.pyplot as plt\n",
    "import seaborn as sns\n",
    "import lifelines\n",
    "from lifelines import KaplanMeierFitter, statistics\n",
    "import numpy as np\n",
    "import re\n",
    "import subprocess"
   ]
  },
  {
   "cell_type": "code",
   "execution_count": null,
   "metadata": {},
   "outputs": [],
   "source": [
    "# Create a dataframe from data stored on GitHub\n",
    "\n",
    "df = pd.read_csv('ornv-transmission.csv', \n",
    "                 parse_dates=[3,4])\n",
    "#print df.info()"
   ]
  },
  {
   "cell_type": "code",
   "execution_count": null,
   "metadata": {
    "scrolled": true
   },
   "outputs": [],
   "source": [
    "# Create some extra columns\n",
    "# t is time until death in days after start of bioassay\n",
    "# e is a boolean indication that the beetle died during the bioassay\n",
    "\n",
    "df['date_end_bioassay'] = df.date_died.max()\n",
    "t, e = lifelines.utils.datetimes_to_durations(\n",
    "    start_times=pd.to_datetime(df.date_treated),\n",
    "    end_times=pd.to_datetime(df.date_died),\n",
    "    fill_date=pd.to_datetime(df.date_end_bioassay))\n",
    "df['t'] = t\n",
    "df['e'] = e\n",
    "df"
   ]
  },
  {
   "cell_type": "code",
   "execution_count": null,
   "metadata": {},
   "outputs": [],
   "source": [
    "# Generate a survivorship plot.\n",
    "\n",
    "sns.set()\n",
    "sns.set_style(\"whitegrid\")\n",
    "\n",
    "# Create custom palette\n",
    "colors = [\"#00FF00\", \"#000000\",\"#FF0000\", ]\n",
    "sns.set_palette(sns.color_palette(colors))\n",
    "\n",
    "# Create survorship plot\n",
    "\n",
    "fig, ax = plt.subplots(figsize=(8,6))\n",
    "kmf = KaplanMeierFitter()\n",
    "for name, grouped_df in df.groupby('treatment'):\n",
    "    kmf.fit(grouped_df['t'], grouped_df['e'], label=name)\n",
    "    kmf.plot(ax=ax, linewidth=5, ci_show=False)\n",
    "ax.set_xlabel('days after treatment')\n",
    "ax.set_ylabel('proportion dead')\n",
    "ax.set_ylim([0,1])\n",
    "ax.set_title('Survivorship');\n",
    "fig.savefig('survivorship.pdf')"
   ]
  },
  {
   "cell_type": "code",
   "execution_count": null,
   "metadata": {},
   "outputs": [],
   "source": [
    "def plot_pairs(tgroup, plot_title):\n",
    "    \"\"\"\n",
    "    Generate a plot showing dates on which partneres were found dead.\n",
    "    \n",
    "    tgroup: 'TF' or 'TM'\n",
    "    plot_title: 'Females dosed with virus' for example\n",
    "    \"\"\"\n",
    "    # Copy the slice where jar_id starts with 'TF'\n",
    "    dftf = df[df.jar_id.str.startswith(tgroup)].copy()\n",
    "\n",
    "    # Filter out beetles which did not die\n",
    "    dftf = dftf[dftf.e]\n",
    "\n",
    "    # Create 'pair_id' column\n",
    "    dftf['pair_id'] = dftf.apply(lambda row: int(re.findall('\\d+',row.jar_id)[0]), axis=1)\n",
    "\n",
    "    # Sort so that virus treatments come first\n",
    "    dftf.sort_values(by='treatment', inplace=True, ascending=False)\n",
    "\n",
    "    sns.set()\n",
    "    sns.set_style(\"whitegrid\")\n",
    "\n",
    "    # Create custom palette\n",
    "    colors = [\"#FF0000\", \"#00FF00\"]\n",
    "    sns.set_palette(sns.color_palette(colors))\n",
    "\n",
    "    p = sns.lmplot(x='t', y='pair_id', data=dftf, hue='treatment', fit_reg=False, y_jitter=0.2)\n",
    "    p = p.set(xlim=(0,43))\n",
    "    p = p.set(ylim=(0,16))\n",
    "    p = p.set(yticks=np.arange(1,16,1))\n",
    "    p = p.set(xticks=np.arange(0,43,4))\n",
    "    plt.title(plot_title)\n",
    "    return p\n",
    "\n",
    "#p = plot_pairs('TF', 'Females dosed with virus')\n",
    "#p.savefig('tf.pdf')"
   ]
  },
  {
   "cell_type": "code",
   "execution_count": null,
   "metadata": {
    "scrolled": false
   },
   "outputs": [],
   "source": [
    "\n",
    "\n",
    "p = plot_pairs('TF', 'Females dosed with virus')\n",
    "p.savefig('tf.pdf')"
   ]
  },
  {
   "cell_type": "code",
   "execution_count": null,
   "metadata": {},
   "outputs": [],
   "source": [
    "p = plot_pairs('TM', 'Males dosed with virus')\n",
    "p.savefig('tm.pdf')"
   ]
  },
  {
   "cell_type": "code",
   "execution_count": null,
   "metadata": {},
   "outputs": [],
   "source": [
    "# Convert the *.tex file to a PDF. Assumes a TEX package is installed.\n",
    "\n",
    "subprocess.call(['pdflatex', 'ornv-transmission.tex'])"
   ]
  },
  {
   "cell_type": "code",
   "execution_count": null,
   "metadata": {},
   "outputs": [],
   "source": [
    "# View the PDF using the default PDF viewer.\n",
    "\n",
    "subprocess.call(['xdg-open', 'ornv-transmission.pdf'])"
   ]
  },
  {
   "cell_type": "code",
   "execution_count": null,
   "metadata": {},
   "outputs": [],
   "source": []
  },
  {
   "cell_type": "code",
   "execution_count": null,
   "metadata": {},
   "outputs": [],
   "source": []
  },
  {
   "cell_type": "code",
   "execution_count": null,
   "metadata": {},
   "outputs": [],
   "source": []
  },
  {
   "cell_type": "code",
   "execution_count": null,
   "metadata": {},
   "outputs": [],
   "source": []
  }
 ],
 "metadata": {
  "kernelspec": {
   "display_name": "py_37_env",
   "language": "python",
   "name": "py_37_env"
  },
  "language_info": {
   "codemirror_mode": {
    "name": "ipython",
    "version": 2
   },
   "file_extension": ".py",
   "mimetype": "text/x-python",
   "name": "python",
   "nbconvert_exporter": "python",
   "pygments_lexer": "ipython2",
   "version": "2.7.12"
  }
 },
 "nbformat": 4,
 "nbformat_minor": 2
}
